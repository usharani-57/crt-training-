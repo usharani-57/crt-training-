{
 "cells": [
  {
   "cell_type": "markdown",
   "id": "aa73181c",
   "metadata": {},
   "source": [
    "Day 08 - 17/09/2025"
   ]
  },
  {
   "cell_type": "markdown",
   "id": "b2565086",
   "metadata": {},
   "source": [
    "Enter the value of n:                                                                                                                                      \n",
    "print(N stars in each column and n rows)"
   ]
  },
  {
   "cell_type": "code",
   "execution_count": 14,
   "id": "5a3b96b4",
   "metadata": {},
   "outputs": [
    {
     "name": "stdout",
     "output_type": "stream",
     "text": [
      "* * * * * * * * \n",
      "* * * * * * * * \n",
      "* * * * * * * * \n",
      "* * * * * * * * \n",
      "* * * * * * * * \n",
      "* * * * * * * * \n",
      "* * * * * * * * \n",
      "* * * * * * * * \n"
     ]
    }
   ],
   "source": [
    "n = int(input())\n",
    "for i in range(1,n+1):\n",
    "    for j in range(1,n+1):\n",
    "        print('*', end=' ')\n",
    "    print()"
   ]
  },
  {
   "cell_type": "code",
   "execution_count": 17,
   "id": "01418261",
   "metadata": {},
   "outputs": [
    {
     "name": "stdout",
     "output_type": "stream",
     "text": [
      "* \n",
      "* * \n",
      "* * * \n",
      "* * * * \n",
      "* * * * * \n"
     ]
    }
   ],
   "source": [
    "n = int(input())\n",
    "for i in range(1,n+1):\n",
    "    for j in range(1,i+1):\n",
    "        print('*', end=' ')\n",
    "    print()"
   ]
  },
  {
   "cell_type": "code",
   "execution_count": 5,
   "id": "5540192d",
   "metadata": {},
   "outputs": [
    {
     "name": "stdout",
     "output_type": "stream",
     "text": [
      "        * \n",
      "      * * \n",
      "    * * * \n",
      "  * * * * \n",
      "* * * * * \n"
     ]
    }
   ],
   "source": [
    "n = int(input())\n",
    "for i in range(1,n+1):\n",
    "    print('  '*(n-i)+'* '*i)"
   ]
  },
  {
   "cell_type": "code",
   "execution_count": 18,
   "id": "c0db173a",
   "metadata": {},
   "outputs": [
    {
     "name": "stdout",
     "output_type": "stream",
     "text": [
      "* * * * * \n",
      "* * * * \n",
      "* * * \n",
      "* * \n",
      "* \n"
     ]
    }
   ],
   "source": [
    "n = int(input())\n",
    "for i in range(n,0,-1):\n",
    "    for j in range(1,i+1):\n",
    "        print('*', end=' ')\n",
    "    print()"
   ]
  },
  {
   "cell_type": "code",
   "execution_count": 28,
   "id": "1683706a",
   "metadata": {},
   "outputs": [
    {
     "name": "stdout",
     "output_type": "stream",
     "text": [
      "        * \n",
      "      * * \n",
      "    * * * \n",
      "  * * * * \n",
      "* * * * * \n"
     ]
    }
   ],
   "source": [
    "n = int(input())\n",
    "for i in range(1,n+1):\n",
    "    for j in range(1,n+1):\n",
    "        if j >= n-i+1:\n",
    "            print('*', end=' ')\n",
    "        else:\n",
    "            print(' ', end=' ')\n",
    "    print()"
   ]
  },
  {
   "cell_type": "code",
   "execution_count": 14,
   "id": "6ed59a94",
   "metadata": {},
   "outputs": [
    {
     "name": "stdout",
     "output_type": "stream",
     "text": [
      "* * * * * \n",
      "  * * * * \n",
      "    * * * \n",
      "      * * \n",
      "        * \n"
     ]
    }
   ],
   "source": [
    "n = int(input())\n",
    "for i in range(n,0,-1):\n",
    "    print('  '*(n-i)+'* '*i)"
   ]
  },
  {
   "cell_type": "code",
   "execution_count": 9,
   "id": "c36f50d2",
   "metadata": {},
   "outputs": [
    {
     "name": "stdout",
     "output_type": "stream",
     "text": [
      "* * * * * \n",
      "  * * * * \n",
      "    * * * \n",
      "      * * \n",
      "        * \n"
     ]
    }
   ],
   "source": [
    "n = int(input())\n",
    "for i in range(1,n+1):\n",
    "    for j in range(1,n+1):\n",
    "        if j >= i:\n",
    "            print('*', end=' ')\n",
    "        else:\n",
    "            print(' ', end=' ')\n",
    "    print()"
   ]
  },
  {
   "cell_type": "code",
   "execution_count": 17,
   "id": "fca32ee9",
   "metadata": {},
   "outputs": [
    {
     "name": "stdout",
     "output_type": "stream",
     "text": [
      "    * \n",
      "   * * \n",
      "  * * * \n",
      " * * * * \n",
      "* * * * * \n"
     ]
    }
   ],
   "source": [
    "n = int(input())\n",
    "for i in range(1,n+1):\n",
    "    print(' '*(n-i)+'* '*(i))"
   ]
  },
  {
   "cell_type": "code",
   "execution_count": 20,
   "id": "cb09d536",
   "metadata": {},
   "outputs": [
    {
     "name": "stdout",
     "output_type": "stream",
     "text": [
      "* * * * * \n",
      " * * * * \n",
      "  * * * \n",
      "   * * \n",
      "    * \n"
     ]
    }
   ],
   "source": [
    "n = int(input())\n",
    "for i in range(n,0,-1):\n",
    "    print(' '*(n-i)+'* '*i)"
   ]
  },
  {
   "cell_type": "code",
   "execution_count": 24,
   "id": "7c3d29d3",
   "metadata": {},
   "outputs": [
    {
     "name": "stdout",
     "output_type": "stream",
     "text": [
      "    * \n",
      "   * * \n",
      "  * * * \n",
      " * * * * \n",
      "* * * * * \n",
      " * * * * \n",
      "  * * * \n",
      "   * * \n",
      "    * \n"
     ]
    }
   ],
   "source": [
    "n = int(input())\n",
    "for i in range(1,n):\n",
    "    print(' '*(n-i)+'* '*(i))\n",
    "for i in range(n,0,-1):\n",
    "    print(' '*(n-i)+'* '*i)"
   ]
  },
  {
   "cell_type": "code",
   "execution_count": 26,
   "id": "12093d44",
   "metadata": {},
   "outputs": [
    {
     "name": "stdout",
     "output_type": "stream",
     "text": [
      "    * \n",
      "  * * * \n",
      "* * * * * \n"
     ]
    }
   ],
   "source": [
    "n = int(input())\n",
    "for i in range(1,n+1,2):\n",
    "    print(' '*(n-i)+'* '*i)"
   ]
  },
  {
   "cell_type": "code",
   "execution_count": 29,
   "id": "4937b986",
   "metadata": {},
   "outputs": [
    {
     "name": "stdout",
     "output_type": "stream",
     "text": [
      "* * * * * \n",
      "  * * * \n",
      "    * \n"
     ]
    }
   ],
   "source": [
    "n = int(input())\n",
    "for i in range(n,0,-2):\n",
    "    print(' '*(n-i)+'* '*i)"
   ]
  },
  {
   "cell_type": "code",
   "execution_count": 106,
   "id": "4a2e4462",
   "metadata": {},
   "outputs": [
    {
     "name": "stdout",
     "output_type": "stream",
     "text": [
      "1 1 1 1 1 \n",
      "2 2 2 2 2 \n",
      "3 3 3 3 3 \n",
      "4 4 4 4 4 \n",
      "5 5 5 5 5 \n"
     ]
    }
   ],
   "source": [
    "n = int(input())\n",
    "for i in range(1,n+1):\n",
    "    for j in range(1,n+1):\n",
    "        print(i,end =' ')\n",
    "    print()"
   ]
  },
  {
   "cell_type": "code",
   "execution_count": 107,
   "id": "59dcca13",
   "metadata": {},
   "outputs": [
    {
     "name": "stdout",
     "output_type": "stream",
     "text": [
      "5 5 5 5 5 \n",
      "4 4 4 4 4 \n",
      "3 3 3 3 3 \n",
      "2 2 2 2 2 \n",
      "1 1 1 1 1 \n"
     ]
    }
   ],
   "source": [
    "n = int(input())\n",
    "for i in range(n,0,-1):\n",
    "    for j in range(1,n+1):\n",
    "        print(i,end=\" \")\n",
    "    print()"
   ]
  },
  {
   "cell_type": "code",
   "execution_count": null,
   "id": "fbd5be50",
   "metadata": {},
   "outputs": [
    {
     "name": "stdout",
     "output_type": "stream",
     "text": [
      "5 5 5 5 5 \n",
      "4 4 4 4 4 \n",
      "3 3 3 3 3 \n",
      "2 2 2 2 2 \n",
      "1 1 1 1 1 \n"
     ]
    }
   ],
   "source": [
    "n = int(input())\n",
    "for i in range(n,0,-1):\n",
    "    for j in range(n,0,-1):\n",
    "        print(i,end=\" \")\n",
    "    print()"
   ]
  },
  {
   "cell_type": "code",
   "execution_count": 127,
   "id": "88b55475",
   "metadata": {},
   "outputs": [
    {
     "name": "stdout",
     "output_type": "stream",
     "text": [
      "1 2 3 4 5 \n",
      "  1 2 3 4 \n",
      "    1 2 3 \n",
      "      1 2 \n",
      "        1 \n"
     ]
    }
   ],
   "source": [
    "n = int(input())\n",
    "for i in range(n):\n",
    "    print('  '*i,end = \"\")\n",
    "    for j in range(1, n - i + 1):\n",
    "        print(j, end = \" \")\n",
    "    print()"
   ]
  },
  {
   "cell_type": "code",
   "execution_count": 130,
   "id": "ba11808e",
   "metadata": {},
   "outputs": [
    {
     "name": "stdout",
     "output_type": "stream",
     "text": [
      "5 5 5 5 5 \n",
      "4 4 4 4 \n",
      "3 3 3 \n",
      "2 2 \n",
      "1 \n"
     ]
    }
   ],
   "source": [
    "n = int(input())\n",
    "for i in range(n,0,-1):\n",
    "    for j in range(i,0,-1):\n",
    "        print(i,end = \" \")\n",
    "    print()"
   ]
  },
  {
   "cell_type": "code",
   "execution_count": 128,
   "id": "7aeb900e",
   "metadata": {},
   "outputs": [
    {
     "name": "stdout",
     "output_type": "stream",
     "text": [
      "1 2 3 4 5 \n",
      "  1 2 3 4 \n",
      "    1 2 3 \n",
      "      1 2 \n",
      "        1 \n"
     ]
    }
   ],
   "source": [
    "n = int(input())\n",
    "for i in range(n):\n",
    "    print('  '*i,end = \"\")\n",
    "    for j in range(1, n - i + 1):\n",
    "        print(j, end = \" \")\n",
    "    print()"
   ]
  },
  {
   "cell_type": "code",
   "execution_count": 129,
   "id": "593cd8ca",
   "metadata": {},
   "outputs": [
    {
     "name": "stdout",
     "output_type": "stream",
     "text": [
      "5 4 3 2 1 \n",
      "  4 3 2 1 \n",
      "    3 2 1 \n",
      "      2 1 \n",
      "        1 \n"
     ]
    }
   ],
   "source": [
    "n = int(input())\n",
    "for i in range(n):\n",
    "    print('  '*i,end = \"\")\n",
    "    for j in range(n-i,0,-1):\n",
    "        print(j,end=\" \")\n",
    "    print()"
   ]
  },
  {
   "cell_type": "code",
   "execution_count": 133,
   "id": "0bc4e064",
   "metadata": {},
   "outputs": [
    {
     "name": "stdout",
     "output_type": "stream",
     "text": [
      "5 5 5 5 5 \n",
      "  4 4 4 4 \n",
      "    3 3 3 \n",
      "      2 2 \n",
      "        1 \n"
     ]
    }
   ],
   "source": [
    "n = int(input())\n",
    "for i in range(n,0,-1):\n",
    "    print('  '*(n-i),end= \"\")\n",
    "    for j in range(i,0,-1):\n",
    "        print(i,end=\" \")\n",
    "    print()"
   ]
  },
  {
   "cell_type": "code",
   "execution_count": 142,
   "id": "3d2f39e8",
   "metadata": {},
   "outputs": [
    {
     "name": "stdout",
     "output_type": "stream",
     "text": [
      "  1  1  1  1  1  \n",
      "    2  2  2  2  2  \n",
      "      3  3  3  3  3  \n",
      "        4  4  4  4  4  \n",
      "          5  5  5  5  5  \n"
     ]
    }
   ],
   "source": [
    "n = int(input())\n",
    "k = 1\n",
    "for i in range(1,n+1):\n",
    "    print(\"  \"*i , end =\"\")\n",
    "    for j in range(n,0,-1):\n",
    "        print(f\"{k} \",end=\" \")\n",
    "    k += 1\n",
    "    print()"
   ]
  },
  {
   "cell_type": "code",
   "execution_count": 153,
   "id": "c399207c",
   "metadata": {},
   "outputs": [
    {
     "name": "stdout",
     "output_type": "stream",
     "text": [
      "    1 \n",
      "   1 2 \n",
      "  1 2 3 \n",
      " 1 2 3 4 \n",
      "1 2 3 4 5 \n"
     ]
    }
   ],
   "source": [
    "n = int(input())\n",
    "for i in range(1,n+1):\n",
    "    print(\" \"*(n-i),end = \"\")\n",
    "    for j in range(1,i+1):\n",
    "        print(f\"{j} \",end = \"\")\n",
    "    print()"
   ]
  },
  {
   "cell_type": "code",
   "execution_count": 154,
   "id": "51aeb416",
   "metadata": {},
   "outputs": [
    {
     "name": "stdout",
     "output_type": "stream",
     "text": [
      "1 2 3 4 5 \n",
      " 1 2 3 4 \n",
      "  1 2 3 \n",
      "   1 2 \n",
      "    1 \n"
     ]
    }
   ],
   "source": [
    "n = int(input())\n",
    "for i in range(n,0,-1):\n",
    "    print(' '*(n-i),end = \"\")\n",
    "    for j in range(1,i+1):\n",
    "        print(f\"{j} \",end = \"\")\n",
    "    print()"
   ]
  },
  {
   "cell_type": "code",
   "execution_count": 156,
   "id": "19acb055",
   "metadata": {},
   "outputs": [
    {
     "name": "stdout",
     "output_type": "stream",
     "text": [
      "    1 \n",
      "   1 2 \n",
      "  1 2 3 \n",
      " 1 2 3 4 \n",
      "1 2 3 4 5 \n",
      " 1 2 3 4 \n",
      "  1 2 3 \n",
      "   1 2 \n",
      "    1 \n"
     ]
    }
   ],
   "source": [
    "n = int(input())\n",
    "for i in range(1,n+1):\n",
    "    print(\" \"*(n-i),end = \"\")\n",
    "    for j in range(1,i+1):\n",
    "        print(f\"{j} \",end = \"\")\n",
    "    print()\n",
    "for i in range(n-1,0,-1):\n",
    "    print(' '*(n-i),end = \"\")\n",
    "    for j in range(1,i+1):\n",
    "        print(f\"{j} \",end = \"\")\n",
    "    print()"
   ]
  },
  {
   "cell_type": "markdown",
   "id": "e9f918ff",
   "metadata": {},
   "source": [
    "Write a Python program to print the uppercase alphabets from a to z."
   ]
  },
  {
   "cell_type": "code",
   "execution_count": 158,
   "id": "c56168ec",
   "metadata": {},
   "outputs": [
    {
     "name": "stdout",
     "output_type": "stream",
     "text": [
      "A B C D E F G H I J K L M N O P Q R S T U V W X Y Z "
     ]
    }
   ],
   "source": [
    "for ch in range(26):\n",
    "    print(chr(ch+65),end = \" \")"
   ]
  },
  {
   "cell_type": "code",
   "execution_count": 159,
   "id": "a9c6ab9a",
   "metadata": {},
   "outputs": [
    {
     "name": "stdout",
     "output_type": "stream",
     "text": [
      "a b c d e f g h i j k l m n o p q r s t u v w x y z "
     ]
    }
   ],
   "source": [
    "for ch in range(26):\n",
    "    print(chr(ch+97),end = \" \")"
   ]
  },
  {
   "cell_type": "code",
   "execution_count": 161,
   "id": "f27aeda1",
   "metadata": {},
   "outputs": [
    {
     "name": "stdout",
     "output_type": "stream",
     "text": [
      "[\n",
      "\\\n",
      "]\n",
      "^\n",
      "_\n",
      "`\n"
     ]
    }
   ],
   "source": [
    "for ch in range(6):\n",
    "    print(chr(ch+91))"
   ]
  },
  {
   "cell_type": "code",
   "execution_count": 162,
   "id": "0e9e8e36",
   "metadata": {},
   "outputs": [
    {
     "name": "stdout",
     "output_type": "stream",
     "text": [
      "A A A A A \n",
      "B B B B B \n",
      "C C C C C \n",
      "D D D D D \n",
      "E E E E E \n"
     ]
    }
   ],
   "source": [
    "n = int(input(\"Enter input within 1 - 26\"))\n",
    "for i in range(1,n+1):\n",
    "    for j in range(1,n+1):\n",
    "        print(chr(i+64),end = \" \")\n",
    "    print()"
   ]
  },
  {
   "cell_type": "code",
   "execution_count": 164,
   "id": "3e4ca904",
   "metadata": {},
   "outputs": [
    {
     "name": "stdout",
     "output_type": "stream",
     "text": [
      "E E E E E \n",
      "D D D D D \n",
      "C C C C C \n",
      "B B B B B \n",
      "A A A A A \n"
     ]
    }
   ],
   "source": [
    "n = int(input())\n",
    "for i in range(n,0,-1):\n",
    "    for j in range(1,n+1):\n",
    "        print(chr(i+64),end = \" \")\n",
    "    print()"
   ]
  },
  {
   "cell_type": "code",
   "execution_count": 165,
   "id": "f951ef9d",
   "metadata": {},
   "outputs": [
    {
     "name": "stdout",
     "output_type": "stream",
     "text": [
      "A B C D E \n",
      "A B C D E \n",
      "A B C D E \n",
      "A B C D E \n",
      "A B C D E \n"
     ]
    }
   ],
   "source": [
    "n = int(input())\n",
    "for i in range(1,n+1):\n",
    "    for j in range(1,n+1):\n",
    "        print(chr(j+64),end = \" \")\n",
    "    print()"
   ]
  },
  {
   "cell_type": "code",
   "execution_count": 168,
   "id": "648a5250",
   "metadata": {},
   "outputs": [
    {
     "name": "stdout",
     "output_type": "stream",
     "text": [
      "E D C B A \n",
      "E D C B A \n",
      "E D C B A \n",
      "E D C B A \n",
      "E D C B A \n"
     ]
    }
   ],
   "source": [
    "n = int(input())\n",
    "for i in range(1,n+1):\n",
    "    for j in range(n,0,-1):\n",
    "        print(chr(j+64),end = \" \")\n",
    "    print()"
   ]
  },
  {
   "cell_type": "code",
   "execution_count": 170,
   "id": "3eb3042c",
   "metadata": {},
   "outputs": [
    {
     "name": "stdout",
     "output_type": "stream",
     "text": [
      "a a a a a \n",
      "b b b b b \n",
      "c c c c c \n",
      "d d d d d \n",
      "e e e e e \n"
     ]
    }
   ],
   "source": [
    "n = int(input())\n",
    "for i in range(1,n+1):\n",
    "    for j in range(1,n+1):\n",
    "        print(chr(i+96),end = \" \")\n",
    "    print()"
   ]
  },
  {
   "cell_type": "code",
   "execution_count": 172,
   "id": "0bdef8cb",
   "metadata": {},
   "outputs": [
    {
     "name": "stdout",
     "output_type": "stream",
     "text": [
      "e e e e e \n",
      "d d d d d \n",
      "c c c c c \n",
      "b b b b b \n",
      "a a a a a \n"
     ]
    }
   ],
   "source": [
    "n = int(input())\n",
    "for i in range(n,0,-1):\n",
    "    for j in range(1,n+1):\n",
    "        print(chr(i+96),end = \" \")\n",
    "    print()"
   ]
  },
  {
   "cell_type": "code",
   "execution_count": 173,
   "id": "714e442c",
   "metadata": {},
   "outputs": [
    {
     "name": "stdout",
     "output_type": "stream",
     "text": [
      "a b c d e \n",
      "a b c d e \n",
      "a b c d e \n",
      "a b c d e \n",
      "a b c d e \n"
     ]
    }
   ],
   "source": [
    "n = int(input())\n",
    "for i in range(1,n+1):\n",
    "    for j in range(1,n+1):\n",
    "        print(chr(j+96),end = \" \")\n",
    "    print()"
   ]
  },
  {
   "cell_type": "code",
   "execution_count": 174,
   "id": "6049d873",
   "metadata": {},
   "outputs": [
    {
     "name": "stdout",
     "output_type": "stream",
     "text": [
      "e d c b a \n",
      "e d c b a \n",
      "e d c b a \n",
      "e d c b a \n",
      "e d c b a \n"
     ]
    }
   ],
   "source": [
    "n = int(input())\n",
    "for i in range(1,n+1):\n",
    "    for j in range(n,0,-1):\n",
    "        print(chr(j+96),end = \" \")\n",
    "    print()"
   ]
  },
  {
   "cell_type": "code",
   "execution_count": 183,
   "id": "539c3f38",
   "metadata": {},
   "outputs": [
    {
     "name": "stdout",
     "output_type": "stream",
     "text": [
      "A A A A A \n",
      "* * * * * \n",
      "C C C C C \n",
      "* * * * * \n",
      "E E E E E \n"
     ]
    }
   ],
   "source": [
    "n = int(input())\n",
    "for i in range(1,n+1):\n",
    "    for j in range(1,n+1):\n",
    "        if i%2 == 0:\n",
    "            print( \"* \", end = \"\")\n",
    "        else:\n",
    "                print(chr(i+64),end = \" \")\n",
    "    print()"
   ]
  },
  {
   "cell_type": "code",
   "execution_count": 185,
   "id": "9319e466",
   "metadata": {},
   "outputs": [
    {
     "name": "stdout",
     "output_type": "stream",
     "text": [
      "A \n",
      "A B \n",
      "A B C \n",
      "A B C D \n",
      "A B C D E \n"
     ]
    }
   ],
   "source": [
    "n = int(input())\n",
    "for i in range(1,n+1):\n",
    "    for j in range(1,i+1):\n",
    "        print(chr(j+64), end = \" \")\n",
    "    print()"
   ]
  },
  {
   "cell_type": "code",
   "execution_count": 179,
   "id": "0ba761ab",
   "metadata": {},
   "outputs": [
    {
     "name": "stdout",
     "output_type": "stream",
     "text": [
      "A \n",
      "B B \n",
      "C C C \n",
      "D D D D \n",
      "E E E E E \n"
     ]
    }
   ],
   "source": [
    "n = int(input())\n",
    "for i in range(1,n+1):\n",
    "    for j in range(1,i+1):\n",
    "        print(chr(i+64),end = \" \")\n",
    "    print()"
   ]
  },
  {
   "cell_type": "code",
   "execution_count": 187,
   "id": "4dcafa9d",
   "metadata": {},
   "outputs": [
    {
     "name": "stdout",
     "output_type": "stream",
     "text": [
      "a \n",
      "a b \n",
      "a b c \n",
      "a b c d \n",
      "a b c d e \n"
     ]
    }
   ],
   "source": [
    "n = int(input())\n",
    "for i in range(1,n+1):\n",
    "    for j in range(1,i+1):\n",
    "        print(chr(j+96),end = \" \")\n",
    "    print()"
   ]
  },
  {
   "cell_type": "code",
   "execution_count": 186,
   "id": "911090f1",
   "metadata": {},
   "outputs": [
    {
     "name": "stdout",
     "output_type": "stream",
     "text": [
      "a \n",
      "b b \n",
      "c c c \n",
      "d d d d \n",
      "e e e e e \n"
     ]
    }
   ],
   "source": [
    "n = int(input())\n",
    "for i in range(1,n+1):\n",
    "    for j in range(1,i+1):\n",
    "        print(chr(i+96),end = \" \")\n",
    "    print()"
   ]
  },
  {
   "cell_type": "code",
   "execution_count": 192,
   "id": "68aeac9c",
   "metadata": {},
   "outputs": [
    {
     "name": "stdout",
     "output_type": "stream",
     "text": [
      "E E E E E \n",
      "D D D D \n",
      "C C C \n",
      "B B \n",
      "A \n"
     ]
    }
   ],
   "source": [
    "n = int(input())\n",
    "for i in range(n,0,-1):\n",
    "    for j in range(1,i+1):\n",
    "        print(chr(i+64),end = \" \")\n",
    "    print()"
   ]
  },
  {
   "cell_type": "code",
   "execution_count": 193,
   "id": "6905de06",
   "metadata": {},
   "outputs": [
    {
     "name": "stdout",
     "output_type": "stream",
     "text": [
      "A B C D E \n",
      "A B C D \n",
      "A B C \n",
      "A B \n",
      "A \n"
     ]
    }
   ],
   "source": [
    "n = int(input())\n",
    "for i in range(n,0,-1):\n",
    "    for j in range(1,i+1):\n",
    "        print(chr(j+64),end = \" \")\n",
    "    print()"
   ]
  },
  {
   "cell_type": "code",
   "execution_count": 194,
   "id": "2b367f2d",
   "metadata": {},
   "outputs": [
    {
     "name": "stdout",
     "output_type": "stream",
     "text": [
      "e e e e e \n",
      "d d d d \n",
      "c c c \n",
      "b b \n",
      "a \n"
     ]
    }
   ],
   "source": [
    "n = int(input())\n",
    "for i in range(n,0,-1):\n",
    "    for j in range(1,i+1):\n",
    "        print(chr(i+96),end = \" \")\n",
    "    print()"
   ]
  },
  {
   "cell_type": "code",
   "execution_count": 195,
   "id": "9b70e565",
   "metadata": {},
   "outputs": [
    {
     "name": "stdout",
     "output_type": "stream",
     "text": [
      "a b c d e \n",
      "a b c d \n",
      "a b c \n",
      "a b \n",
      "a \n"
     ]
    }
   ],
   "source": [
    "n = int(input())\n",
    "for i in range(n,0,-1):\n",
    "    for j in range(1,i+1):\n",
    "        print(chr(j+96),end = \" \")\n",
    "    print()"
   ]
  },
  {
   "cell_type": "code",
   "execution_count": 208,
   "id": "d7a8d3d3",
   "metadata": {},
   "outputs": [
    {
     "name": "stdout",
     "output_type": "stream",
     "text": [
      "    A\n",
      "   BB\n",
      "  CCC\n",
      " DDDD\n",
      "EEEEE\n"
     ]
    }
   ],
   "source": [
    "n = int(input())\n",
    "for i in range(1,n+1):\n",
    "    print(\" \"*(n-i),end = \"\")\n",
    "    for j in range(1,i+1):\n",
    "        print(chr(i+64) ,end =\"\")\n",
    "    print()"
   ]
  },
  {
   "cell_type": "code",
   "execution_count": 209,
   "id": "ad49a840",
   "metadata": {},
   "outputs": [
    {
     "name": "stdout",
     "output_type": "stream",
     "text": [
      "    A\n",
      "   AB\n",
      "  ABC\n",
      " ABCD\n",
      "ABCDE\n"
     ]
    }
   ],
   "source": [
    "n = int(input())\n",
    "for i in range(1,n+1):\n",
    "    print(\" \"*(n-i),end = \"\")\n",
    "    for j in range(1,i+1):\n",
    "        print(chr(j+64),end = \"\")\n",
    "    print()"
   ]
  },
  {
   "cell_type": "code",
   "execution_count": 210,
   "id": "2d678e4a",
   "metadata": {},
   "outputs": [
    {
     "name": "stdout",
     "output_type": "stream",
     "text": [
      "    a\n",
      "   bb\n",
      "  ccc\n",
      " dddd\n",
      "eeeee\n"
     ]
    }
   ],
   "source": [
    "n = int(input())\n",
    "for i in range(1,n+1):\n",
    "    print(\" \"*(n-i),end = \"\")\n",
    "    for j in range(1,i+1):\n",
    "        print(chr(i+96) ,end =\"\")\n",
    "    print()"
   ]
  },
  {
   "cell_type": "code",
   "execution_count": 211,
   "id": "b07eb192",
   "metadata": {},
   "outputs": [
    {
     "name": "stdout",
     "output_type": "stream",
     "text": [
      "    a\n",
      "   ab\n",
      "  abc\n",
      " abcd\n",
      "abcde\n"
     ]
    }
   ],
   "source": [
    "n = int(input())\n",
    "for i in range(1,n+1):\n",
    "    print(\" \"*(n-i),end = \"\")\n",
    "    for j in range(1,i+1):\n",
    "        print(chr(j+96),end = \"\")\n",
    "    print()"
   ]
  }
 ],
 "metadata": {
  "kernelspec": {
   "display_name": "Python 3",
   "language": "python",
   "name": "python3"
  },
  "language_info": {
   "codemirror_mode": {
    "name": "ipython",
    "version": 3
   },
   "file_extension": ".py",
   "mimetype": "text/x-python",
   "name": "python",
   "nbconvert_exporter": "python",
   "pygments_lexer": "ipython3",
   "version": "3.12.6"
  }
 },
 "nbformat": 4,
 "nbformat_minor": 5
}
