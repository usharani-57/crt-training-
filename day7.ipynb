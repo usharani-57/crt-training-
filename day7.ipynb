{
 "cells": [
  {
   "cell_type": "markdown",
   "id": "b15242ad",
   "metadata": {},
   "source": [
    "Day 07 - 16/09/2025           "
   ]
  },
  {
   "cell_type": "code",
   "execution_count": 1,
   "id": "0eec5391",
   "metadata": {},
   "outputs": [
    {
     "name": "stdout",
     "output_type": "stream",
     "text": [
      "[1, 2, 3, 4, 5, 6, 7, 8, 9, 10]\n"
     ]
    }
   ],
   "source": [
    "num = []\n",
    "for i in range(1,11):\n",
    "    num.append(i)\n",
    "print(num)"
   ]
  },
  {
   "cell_type": "markdown",
   "id": "2c8fd309",
   "metadata": {},
   "source": [
    "List Comprehension : Iterating inside the list"
   ]
  },
  {
   "cell_type": "code",
   "execution_count": 2,
   "id": "3a2178b2",
   "metadata": {},
   "outputs": [
    {
     "name": "stdout",
     "output_type": "stream",
     "text": [
      "[1, 2, 3, 4, 5, 6, 7, 8, 9, 10]\n"
     ]
    }
   ],
   "source": [
    "li = [i for i in range(1,11)]\n",
    "print(li)"
   ]
  },
  {
   "cell_type": "markdown",
   "id": "a1fa415a",
   "metadata": {},
   "source": [
    "Write a python program to print a list of even numbers from 1 to n using list comprehension"
   ]
  },
  {
   "cell_type": "code",
   "execution_count": 4,
   "id": "fab9cdc0",
   "metadata": {},
   "outputs": [
    {
     "name": "stdout",
     "output_type": "stream",
     "text": [
      "[2, 4, 6, 8, 10, 12, 14, 16, 18, 20, 22, 24, 26, 28, 30, 32, 34, 36, 38, 40, 42, 44, 46, 48]\n"
     ]
    }
   ],
   "source": [
    "n = int(input(\"Enter the integer value\"))\n",
    "li = [i for i in range(2,n,2)]\n",
    "print(li)"
   ]
  },
  {
   "cell_type": "code",
   "execution_count": 6,
   "id": "7fee4690",
   "metadata": {},
   "outputs": [
    {
     "name": "stdout",
     "output_type": "stream",
     "text": [
      "[2, 4, 6, 8, 10, 12, 14, 16, 18, 20, 22, 24, 26, 28, 30, 32, 34, 36, 38]\n"
     ]
    }
   ],
   "source": [
    "n = int(input(\"Enter the integer value\"))\n",
    "li = [i for i in range(1,n) if i % 2 == 0]\n",
    "print(li)"
   ]
  },
  {
   "cell_type": "markdown",
   "id": "661d890b",
   "metadata": {},
   "source": [
    "MAP() - This function executes a specified function on each element of the iterable(sequence) and perhaps changes the element           \n",
    "\n",
    "Syntax - map(function_name,iterable)"
   ]
  },
  {
   "cell_type": "markdown",
   "id": "77df81af",
   "metadata": {},
   "source": [
    "FILTER() - It returns those elements of sequence, for which function is true                                                            \n",
    "filter(function_name,iterable)"
   ]
  },
  {
   "cell_type": "markdown",
   "id": "b13d7a35",
   "metadata": {},
   "source": [
    "REDUCE() - To reduce sequenx=ce of elements                                                                                             \n",
    "Syntax - reduce(function_name,iterable)"
   ]
  },
  {
   "cell_type": "markdown",
   "id": "05be705d",
   "metadata": {},
   "source": [
    "ANANYMOUS FUNCTION OR LAMBDAS A function without a name is called Ananymous function.Also called as lambada Function.They are not defined using def keyword rather they are defined using lambda keyword - Syntax : lambda argument_list : expression"
   ]
  },
  {
   "cell_type": "markdown",
   "id": "7299ac13",
   "metadata": {},
   "source": [
    "Write a python function to print square of n"
   ]
  },
  {
   "cell_type": "code",
   "execution_count": 7,
   "id": "e8e8b21f",
   "metadata": {},
   "outputs": [
    {
     "name": "stdout",
     "output_type": "stream",
     "text": [
      "100\n"
     ]
    }
   ],
   "source": [
    "def square(n):\n",
    "    print(n*n)\n",
    "square(10)"
   ]
  },
  {
   "cell_type": "code",
   "execution_count": 8,
   "id": "1bd6421a",
   "metadata": {},
   "outputs": [
    {
     "name": "stdout",
     "output_type": "stream",
     "text": [
      "100\n"
     ]
    }
   ],
   "source": [
    "x=lambda n : print(n*n)\n",
    "x(10)"
   ]
  },
  {
   "cell_type": "markdown",
   "id": "375776ba",
   "metadata": {},
   "source": [
    "Write a lambda function to add 10 to a number"
   ]
  },
  {
   "cell_type": "code",
   "execution_count": 9,
   "id": "6a56304b",
   "metadata": {},
   "outputs": [
    {
     "name": "stdout",
     "output_type": "stream",
     "text": [
      "20\n"
     ]
    }
   ],
   "source": [
    "add = lambda n : n+10\n",
    "print(add(10))"
   ]
  },
  {
   "cell_type": "markdown",
   "id": "ee5a1a9c",
   "metadata": {},
   "source": [
    "Write a python program to check whether the user entered integer is even using lambda functions"
   ]
  },
  {
   "cell_type": "code",
   "execution_count": 10,
   "id": "3cb2024d",
   "metadata": {},
   "outputs": [
    {
     "name": "stdout",
     "output_type": "stream",
     "text": [
      "True\n",
      "False\n"
     ]
    }
   ],
   "source": [
    "even = lambda n : n%2 == 0\n",
    "print(even(24))\n",
    "print(even(25))"
   ]
  },
  {
   "cell_type": "markdown",
   "id": "fddc55fb",
   "metadata": {},
   "source": [
    "Write a python program to square the numbers in the list using lambda functions"
   ]
  },
  {
   "cell_type": "code",
   "execution_count": 20,
   "id": "6508e2ca",
   "metadata": {},
   "outputs": [
    {
     "name": "stdout",
     "output_type": "stream",
     "text": [
      "[1, 4, 9, 16, 25, 36, 49, 64, 81, 100]\n"
     ]
    }
   ],
   "source": [
    "num = [1,2,3,4,5,6,7,8,9,10]\n",
    "square = lambda :[i*i for i in num]\n",
    "print(square())"
   ]
  },
  {
   "cell_type": "code",
   "execution_count": 21,
   "id": "28f3f07c",
   "metadata": {},
   "outputs": [
    {
     "name": "stdout",
     "output_type": "stream",
     "text": [
      "[1, 4, 9, 16, 25, 36, 49, 64, 81, 100]\n"
     ]
    }
   ],
   "source": [
    "num = [1,2,3,4,5,6,7,8,9,10]\n",
    "res = []\n",
    "for i in num:\n",
    "    val = i + i\n",
    "    res.append(i*i)\n",
    "print(res)"
   ]
  },
  {
   "cell_type": "code",
   "execution_count": null,
   "id": "b69be766",
   "metadata": {},
   "outputs": [],
   "source": []
  },
  {
   "cell_type": "code",
   "execution_count": 23,
   "id": "a43cacb5",
   "metadata": {},
   "outputs": [
    {
     "name": "stdout",
     "output_type": "stream",
     "text": [
      "[1, 4, 9, 16, 25, 36, 49, 64, 81, 100]\n"
     ]
    }
   ],
   "source": [
    "num = [1,2,3,4,5,6,7,8,9,10]\n",
    "def double(n):\n",
    "    return n*n\n",
    "li = list(map(double, num))\n",
    "print(li)"
   ]
  },
  {
   "cell_type": "markdown",
   "id": "88501cfd",
   "metadata": {},
   "source": [
    "Write a python program to read the list of words as input from the user and return the len of each word for the list"
   ]
  },
  {
   "cell_type": "code",
   "execution_count": 25,
   "id": "0f111f4f",
   "metadata": {},
   "outputs": [
    {
     "name": "stdout",
     "output_type": "stream",
     "text": [
      "User Entered list :  ['c', 'c++', 'Java', 'Python', 'TML']\n",
      "Length of each word in the list :  [1, 3, 4, 6, 3]\n"
     ]
    }
   ],
   "source": [
    "size = int(input(\"Enter the size of the list\"))\n",
    "WordList = []\n",
    "for i in range(size):\n",
    "    word = input(\"Enter the word\")\n",
    "    WordList.append(word)\n",
    "print(\"User Entered list : \", WordList)\n",
    "Len = list(map(lambda w: len(w), WordList))\n",
    "print(\"Length of each word in the list : \",Len )"
   ]
  },
  {
   "cell_type": "markdown",
   "id": "d3b14b17",
   "metadata": {},
   "source": [
    "Write a Python Program to read 3 integer values as input in same line and print the sum of the values"
   ]
  },
  {
   "cell_type": "code",
   "execution_count": 27,
   "id": "a0307c42",
   "metadata": {},
   "outputs": [
    {
     "name": "stdout",
     "output_type": "stream",
     "text": [
      "The list of values:  [12, 13, 14]\n",
      "Sum of the values:  39\n"
     ]
    }
   ],
   "source": [
    "#take input in same line\n",
    "li = list(map(int, input(\"Enter three integer values: \").split()))\n",
    "print(\"The list of values: \", li)\n",
    "print(\"Sum of the values: \", sum(li))"
   ]
  },
  {
   "cell_type": "markdown",
   "id": "5b61a354",
   "metadata": {},
   "source": [
    "Write a python program to read a list of elements as input from the user & print the square of each element"
   ]
  },
  {
   "cell_type": "code",
   "execution_count": 31,
   "id": "db42bd7d",
   "metadata": {},
   "outputs": [
    {
     "name": "stdout",
     "output_type": "stream",
     "text": [
      "User Entered list :  [1, 2, 3]\n",
      "Square of each element:  [1, 4, 9]\n"
     ]
    }
   ],
   "source": [
    "size = int(input(\"Enter the size of the list\"))\n",
    "num = []\n",
    "new = []\n",
    "for i in range(size):\n",
    "    val = int(input(\"Enter the element\"))\n",
    "    num.append(val)\n",
    "print(\"User Entered list : \", num)\n",
    "for i in num:\n",
    "    i = i *i\n",
    "    new.append(i)\n",
    "print(\"Square of each element: \",new)"
   ]
  },
  {
   "cell_type": "code",
   "execution_count": 29,
   "id": "edeaee85",
   "metadata": {},
   "outputs": [
    {
     "name": "stdout",
     "output_type": "stream",
     "text": [
      "The User Entered List:  [2, 4, 6, 7, 8, 10]\n",
      "Square of each element: [4, 16, 36, 49, 64, 100]\n"
     ]
    }
   ],
   "source": [
    "li = list(map(int,input(\"Enter the list of elements: \").split()))\n",
    "print(\"The User Entered List: \", li)\n",
    "print(\"Square of each element:\",list(map(lambda x: x*x,li)))"
   ]
  },
  {
   "cell_type": "markdown",
   "id": "8931b37b",
   "metadata": {},
   "source": [
    "Write a python program to read a list of numbers and print the list of even numbers and odd numbers without using loops and conditional statements"
   ]
  },
  {
   "cell_type": "code",
   "execution_count": 34,
   "id": "fb51a4e7",
   "metadata": {},
   "outputs": [
    {
     "name": "stdout",
     "output_type": "stream",
     "text": [
      "The list of elements:  [1, 2, 3, 4, 5, 6]\n",
      "The list of even numbers:  [False, True, False, True, False, True]\n",
      "The list of odd numbers:  [True, False, True, False, True, False]\n"
     ]
    }
   ],
   "source": [
    "li = list(map(int,input(\"Enter the list of elements: \").split()))\n",
    "print(\"The list of elements: \", li)\n",
    "even = list(map(lambda x: x%2==0, li))\n",
    "print(\"The list of even numbers: \", even)\n",
    "odd = list(map(lambda x: x%2!=0, li))\n",
    "print(\"The list of odd numbers: \", odd)"
   ]
  },
  {
   "cell_type": "code",
   "execution_count": 35,
   "id": "e4c49953",
   "metadata": {},
   "outputs": [
    {
     "name": "stdout",
     "output_type": "stream",
     "text": [
      "The list of elements:  [1, 2, 3, 4, 5, 6, 7, 8, 9, 10, 11, 12, 13, 14, 15, 16]\n",
      "The list of even numbers:  [2, 4, 6, 8, 10, 12, 14, 16]\n",
      "The list of odd numbers:  [1, 3, 5, 7, 9, 11, 13, 15]\n"
     ]
    }
   ],
   "source": [
    "li = list(map(int,input(\"Enter the list of elements: \").split()))\n",
    "print(\"The list of elements: \", li)\n",
    "even = list(filter(lambda x: x%2==0, li))\n",
    "print(\"The list of even numbers: \", even)\n",
    "odd = list(filter(lambda x: x%2!=0, li))\n",
    "print(\"The list of odd numbers: \", odd)"
   ]
  },
  {
   "cell_type": "markdown",
   "id": "f72569d8",
   "metadata": {},
   "source": [
    "Sales Data Analysis"
   ]
  },
  {
   "cell_type": "code",
   "execution_count": 36,
   "id": "c17232a0",
   "metadata": {},
   "outputs": [
    {
     "name": "stdout",
     "output_type": "stream",
     "text": [
      "1000\n",
      "4000\n"
     ]
    }
   ],
   "source": [
    "Sales = list(map(int,input(\"Enter the sales for a week\").split(\",\")))\n",
    "print(max(Sales))\n",
    "print(sum(Sales))"
   ]
  },
  {
   "cell_type": "markdown",
   "id": "9c032116",
   "metadata": {},
   "source": [
    "Student Grade Analysis"
   ]
  },
  {
   "cell_type": "code",
   "execution_count": 39,
   "id": "be5e9b39",
   "metadata": {},
   "outputs": [
    {
     "name": "stdout",
     "output_type": "stream",
     "text": [
      "40.0\n",
      "Failed\n"
     ]
    }
   ],
   "source": [
    "Marks = tuple(map(int,input(\"Enter the marks of 3 Students: \").split()))\n",
    "print(sum(Marks)/3)\n",
    "li = list(map(lambda x: x>=35, Marks))\n",
    "res = \"Failed\" if False in li else \"Passed\"\n",
    "print(res)"
   ]
  },
  {
   "cell_type": "markdown",
   "id": "53a714fb",
   "metadata": {},
   "source": [
    "Movie Ticket Booking"
   ]
  },
  {
   "cell_type": "code",
   "execution_count": 42,
   "id": "bb2fd46e",
   "metadata": {},
   "outputs": [
    {
     "name": "stdout",
     "output_type": "stream",
     "text": [
      "950\n"
     ]
    }
   ],
   "source": [
    "age = list(map(int,input(\"Enter the age of people: \").split()))\n",
    "res = []\n",
    "for i in age:\n",
    "    if i<=12:\n",
    "        res.append(150)\n",
    "    elif 13<=i<=59:\n",
    "        res.append(250)\n",
    "    elif i>=60:\n",
    "        res.append(200)\n",
    "print(sum(res))"
   ]
  },
  {
   "cell_type": "code",
   "execution_count": null,
   "id": "0b25b2ce",
   "metadata": {},
   "outputs": [],
   "source": []
  }
 ],
 "metadata": {
  "kernelspec": {
   "display_name": "Python 3",
   "language": "python",
   "name": "python3"
  },
  "language_info": {
   "codemirror_mode": {
    "name": "ipython",
    "version": 3
   },
   "file_extension": ".py",
   "mimetype": "text/x-python",
   "name": "python",
   "nbconvert_exporter": "python",
   "pygments_lexer": "ipython3",
   "version": "3.12.6"
  }
 },
 "nbformat": 4,
 "nbformat_minor": 5
}
