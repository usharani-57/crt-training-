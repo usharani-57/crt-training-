{
 "cells": [
  {
   "cell_type": "markdown",
   "id": "c0b8a8e9",
   "metadata": {},
   "source": [
    "DAY 2 - (09/09/2025)\n",
    "Real time scenarios and iterative statements\n"
   ]
  },
  {
   "cell_type": "markdown",
   "id": "fc03b7df",
   "metadata": {},
   "source": [
    "1.ATM Withdrawl Validation\n",
    "you are designing an ATM System. A coustumer enters the amount to withdraw\n",
    "    -the withdrawl amount must be less than or equal to the account balace(5K)\n",
    "    -the amt must be multiple of 100\n",
    "    -if both conditions are true ,allow withdrawl\n",
    "    -otherwise, display(\"Insufficient balance\")"
   ]
  },
  {
   "cell_type": "code",
   "execution_count": 1,
   "id": "7b8e4215",
   "metadata": {},
   "outputs": [
    {
     "name": "stdout",
     "output_type": "stream",
     "text": [
      "Withdrawal allowed\n"
     ]
    }
   ],
   "source": [
    "amt=int(input(\"Enter the amount to withdraw\"))\n",
    "if(amt<=5000):\n",
    "    if(amt%100==0):\n",
    "        print(\"Withdrawal allowed\")\n",
    "    else:\n",
    "        print(\"Amount Should be multiple of 100\")\n",
    "else:\n",
    "    print(\"Insufficient Balance\")"
   ]
  },
  {
   "cell_type": "markdown",
   "id": "ef86d47f",
   "metadata": {},
   "source": [
    "Signal color as input and print statements according to that color"
   ]
  },
  {
   "cell_type": "code",
   "execution_count": 6,
   "id": "294eaaad",
   "metadata": {},
   "outputs": [
    {
     "name": "stdout",
     "output_type": "stream",
     "text": [
      "Stop Immediately\n"
     ]
    }
   ],
   "source": [
    "color = input(\"Enter the color\").lower() #.lower \n",
    "if(color==\"red\"):\n",
    "    print(\"Stop Immediately\")\n",
    "elif(color==\"yellow\"):\n",
    "    print(\"Get ready to move\")\n",
    "elif(color==\"green\"):\n",
    "    print(\"You can go\")"
   ]
  },
  {
   "cell_type": "markdown",
   "id": "f7b1ba90",
   "metadata": {},
   "source": [
    "3.Movie Ticket Pricing\n",
    "In a theater, ticket prices vary depending on customers age\n",
    "    -(<12) print 150rs\n",
    "    -(>12 and less than 18) print 200\n",
    "    -(>18) print 300rs"
   ]
  },
  {
   "cell_type": "code",
   "execution_count": 14,
   "id": "a3aa6602",
   "metadata": {},
   "outputs": [
    {
     "name": "stdout",
     "output_type": "stream",
     "text": [
      "Invalid age\n"
     ]
    }
   ],
   "source": [
    "age=int(input(\"Enter the age\"))\n",
    "if(0<age<=12):\n",
    "    print(\"150/-\")\n",
    "elif(12<age<18):\n",
    "    print(\"200/-\")\n",
    "elif(age>18):\n",
    "    print(\"300/-\")\n",
    "else:\n",
    "    print(\"Invalid age\")"
   ]
  },
  {
   "cell_type": "markdown",
   "id": "3f29b8df",
   "metadata": {},
   "source": [
    "4.Employee Overtime Pay\n",
    "standard 8 hours\n",
    "    -if morethan 8 100rs for each extra hour\n",
    "    -else no overtime pay"
   ]
  },
  {
   "cell_type": "code",
   "execution_count": 16,
   "id": "19d14ac7",
   "metadata": {},
   "outputs": [
    {
     "name": "stdout",
     "output_type": "stream",
     "text": [
      "No overtime pay\n"
     ]
    }
   ],
   "source": [
    "time=int(input(\"Enter working hours : \"))\n",
    "if(time>8):\n",
    "    print(\"100rs for each extra hour\")\n",
    "else:\n",
    "    print(\"No overtime pay\")"
   ]
  },
  {
   "cell_type": "code",
   "execution_count": null,
   "id": "34758f70",
   "metadata": {},
   "outputs": [
    {
     "name": "stdout",
     "output_type": "stream",
     "text": [
      "100rs for each extra hour\n"
     ]
    }
   ],
   "source": [
    "time=int(input(\"Enter working hours : \"))\n",
    "if(time>8):\n",
    "    print(\"100rs for each extra hour\")\n",
    "    time=time-8\n",
    "    res=time//100\n",
    "else:\n",
    "    print(\"No overtime pay\")"
   ]
  },
  {
   "cell_type": "markdown",
   "id": "88ce1ada",
   "metadata": {},
   "source": [
    "5.Restaurant Discount System\n",
    "a restaurent gives dicount based on the total bill:\n",
    "    -if bill > 1000rs -- 10% discount\n",
    "    -if bill > 500rs -- 5% discount\n",
    "    -if bill<= 500rs -- no discount\n",
    "    write program that calculates and displays the final amount after discount"
   ]
  },
  {
   "cell_type": "code",
   "execution_count": 19,
   "id": "66620df2",
   "metadata": {},
   "outputs": [
    {
     "name": "stdout",
     "output_type": "stream",
     "text": [
      "2700.0\n"
     ]
    }
   ],
   "source": [
    "amt=int(input(\"Enter the bill amount : \"))\n",
    "if(amt>1000):\n",
    "    dis=amt*0.1\n",
    "    amt=amt-dis\n",
    "    print(amt)\n",
    "elif(amt>500):\n",
    "    dis=amt*0.05\n",
    "    amt=amt-dis\n",
    "    print(amt)\n",
    "elif(amt<=500):\n",
    "    print(\"No discount\")\n",
    "    print(amt)\n"
   ]
  },
  {
   "cell_type": "markdown",
   "id": "9b786ccc",
   "metadata": {},
   "source": [
    "7.Water Reminder app\n"
   ]
  },
  {
   "cell_type": "code",
   "execution_count": 22,
   "id": "cfe29c96",
   "metadata": {},
   "outputs": [
    {
     "name": "stdout",
     "output_type": "stream",
     "text": [
      "Drink a glass of water\n"
     ]
    }
   ],
   "source": [
    "hrs = int(input(\"Enter hours since you drink water\"))\n",
    "if(hrs>=4):\n",
    "    print(\"You are dehydrated! Drink water now!\")\n",
    "elif(2<=hrs<=3):\n",
    "    print(\"Drink a glass of water\")\n",
    "elif(hrs<2):\n",
    "    print(\"You're fine\")\n"
   ]
  },
  {
   "cell_type": "markdown",
   "id": "6146f637",
   "metadata": {},
   "source": [
    "                                                            List,Tuple,Set"
   ]
  },
  {
   "cell_type": "code",
   "execution_count": 23,
   "id": "6d48cb45",
   "metadata": {},
   "outputs": [
    {
     "name": "stdout",
     "output_type": "stream",
     "text": [
      "[10, 20, 30, 40, 50] <class 'list'>\n",
      "(10, 20, 30, 40, 50) <class 'tuple'>\n",
      "{50, 20, 40, 10, 30} <class 'set'>\n"
     ]
    }
   ],
   "source": [
    "List=[10,20,30,40,50]\n",
    "Tupple=(10,20,30,40,50)\n",
    "Set={10,20,30,40,50}\n",
    "print(List,type(List))\n",
    "print(Tupple,type(Tupple))\n",
    "print(Set,type(Set))"
   ]
  },
  {
   "cell_type": "markdown",
   "id": "6c4e6f7e",
   "metadata": {},
   "source": [
    "Range"
   ]
  },
  {
   "cell_type": "code",
   "execution_count": 24,
   "id": "895108ff",
   "metadata": {},
   "outputs": [
    {
     "name": "stdout",
     "output_type": "stream",
     "text": [
      "range(0, 10)\n",
      "<class 'range'>\n"
     ]
    }
   ],
   "source": [
    "#range(stop)\n",
    "#range(strt,stop)\n",
    "#range(strt,stop,stepsize)\n",
    "R1=range(10)\n",
    "print(R1)\n",
    "print(type(R1))"
   ]
  },
  {
   "cell_type": "code",
   "execution_count": 25,
   "id": "5371e8a9",
   "metadata": {},
   "outputs": [
    {
     "name": "stdout",
     "output_type": "stream",
     "text": [
      "0\n",
      "1\n",
      "2\n",
      "3\n",
      "4\n",
      "5\n",
      "6\n",
      "7\n",
      "8\n",
      "9\n"
     ]
    }
   ],
   "source": [
    "for i in range(10):\n",
    "    print(i)"
   ]
  },
  {
   "cell_type": "code",
   "execution_count": 26,
   "id": "0271c106",
   "metadata": {},
   "outputs": [
    {
     "name": "stdout",
     "output_type": "stream",
     "text": [
      "10\n",
      "11\n",
      "12\n",
      "13\n",
      "14\n",
      "15\n",
      "16\n",
      "17\n",
      "18\n",
      "19\n",
      "20\n"
     ]
    }
   ],
   "source": [
    "for i in range(10,21):\n",
    "    print(i)"
   ]
  },
  {
   "cell_type": "code",
   "execution_count": 31,
   "id": "46cd89d3",
   "metadata": {},
   "outputs": [
    {
     "name": "stdout",
     "output_type": "stream",
     "text": [
      "2\n",
      "4\n",
      "6\n",
      "8\n",
      "10\n"
     ]
    }
   ],
   "source": [
    "for i in range(2,11,2):\n",
    "    print(i)"
   ]
  },
  {
   "cell_type": "markdown",
   "id": "6967af96",
   "metadata": {},
   "source": [
    "write a python program to print the natural numbers from 1 to n.where n is the users input"
   ]
  },
  {
   "cell_type": "code",
   "execution_count": null,
   "id": "3dab5908",
   "metadata": {},
   "outputs": [
    {
     "name": "stdout",
     "output_type": "stream",
     "text": [
      "Natural Numbers from 1 to 15:\n",
      "1\n",
      "2\n",
      "3\n",
      "4\n",
      "5\n",
      "6\n",
      "7\n",
      "8\n",
      "9\n",
      "10\n",
      "11\n",
      "12\n",
      "13\n",
      "14\n",
      "15\n"
     ]
    }
   ],
   "source": [
    "n=int(input('Enter the integer value: '))\n",
    "print(f\"Natural Numbers from 1 to {n}:\")\n",
    "for i in range(1,n+1):\n",
    "    print(i)"
   ]
  },
  {
   "cell_type": "markdown",
   "id": "c79178f2",
   "metadata": {},
   "source": [
    "write a python program to print natural numbers from n to 1"
   ]
  },
  {
   "cell_type": "code",
   "execution_count": 37,
   "id": "0e41055b",
   "metadata": {},
   "outputs": [
    {
     "name": "stdout",
     "output_type": "stream",
     "text": [
      "10\n",
      "9\n",
      "8\n",
      "7\n",
      "6\n",
      "5\n",
      "4\n",
      "3\n",
      "2\n",
      "1\n"
     ]
    }
   ],
   "source": [
    "n=int(input('Enter the integer value: '))\n",
    "for i in range(n,0,-1):\n",
    "    print(i)"
   ]
  },
  {
   "cell_type": "markdown",
   "id": "2235d187",
   "metadata": {},
   "source": [
    "write a python program to print even numbers from 1 to n"
   ]
  },
  {
   "cell_type": "code",
   "execution_count": 38,
   "id": "8587d39f",
   "metadata": {},
   "outputs": [
    {
     "name": "stdout",
     "output_type": "stream",
     "text": [
      "Even numbers from 1 to 20\n",
      "2\n",
      "4\n",
      "6\n",
      "8\n",
      "10\n",
      "12\n",
      "14\n",
      "16\n",
      "18\n",
      "20\n"
     ]
    }
   ],
   "source": [
    "n=int(input('Enter the integer value: '))\n",
    "print(f\"Even numbers from 1 to {n}\")\n",
    "for i in range(2,n+1,2):\n",
    "    print(i)"
   ]
  },
  {
   "cell_type": "markdown",
   "id": "4143b530",
   "metadata": {},
   "source": [
    "write a python program to print the even numbers from n to 1"
   ]
  },
  {
   "cell_type": "code",
   "execution_count": 39,
   "id": "6f7767df",
   "metadata": {},
   "outputs": [
    {
     "name": "stdout",
     "output_type": "stream",
     "text": [
      "Even numbers from 1 to 50\n",
      "50\n",
      "48\n",
      "46\n",
      "44\n",
      "42\n",
      "40\n",
      "38\n",
      "36\n",
      "34\n",
      "32\n",
      "30\n",
      "28\n",
      "26\n",
      "24\n",
      "22\n",
      "20\n",
      "18\n",
      "16\n",
      "14\n",
      "12\n",
      "10\n",
      "8\n",
      "6\n",
      "4\n",
      "2\n"
     ]
    }
   ],
   "source": [
    "n=int(input('Enter the integer value: '))\n",
    "print(f\"Even numbers from 1 to {n}\")\n",
    "for i in range(n,0,-1):\n",
    "    if(i%2==0):\n",
    "        print(i)"
   ]
  },
  {
   "cell_type": "markdown",
   "id": "5f14e607",
   "metadata": {},
   "source": [
    "write apython program to print odd numbers from 1 to n"
   ]
  },
  {
   "cell_type": "code",
   "execution_count": 40,
   "id": "dd12fa4b",
   "metadata": {},
   "outputs": [
    {
     "name": "stdout",
     "output_type": "stream",
     "text": [
      "Odd numbers from 1 to 50\n",
      "1\n",
      "3\n",
      "5\n",
      "7\n",
      "9\n",
      "11\n",
      "13\n",
      "15\n",
      "17\n",
      "19\n",
      "21\n",
      "23\n",
      "25\n",
      "27\n",
      "29\n",
      "31\n",
      "33\n",
      "35\n",
      "37\n",
      "39\n",
      "41\n",
      "43\n",
      "45\n",
      "47\n",
      "49\n"
     ]
    }
   ],
   "source": [
    "n=int(input('Enter the integer value: '))\n",
    "print(f\"Odd numbers from 1 to {n}\")\n",
    "for i in range(1,n+1,2):\n",
    "    print(i)"
   ]
  },
  {
   "cell_type": "markdown",
   "id": "d2f2cb48",
   "metadata": {},
   "source": [
    "write a python program to print odd numbers from n to 1"
   ]
  },
  {
   "cell_type": "code",
   "execution_count": 44,
   "id": "06e19adb",
   "metadata": {},
   "outputs": [
    {
     "name": "stdout",
     "output_type": "stream",
     "text": [
      "Odd numbers from 50 to 1:\n",
      "49\n",
      "47\n",
      "45\n",
      "43\n",
      "41\n",
      "39\n",
      "37\n",
      "35\n",
      "33\n",
      "31\n",
      "29\n",
      "27\n",
      "25\n",
      "23\n",
      "21\n",
      "19\n",
      "17\n",
      "15\n",
      "13\n",
      "11\n",
      "9\n",
      "7\n",
      "5\n",
      "3\n"
     ]
    }
   ],
   "source": [
    "n=int(input(\"Enter the integer\"))\n",
    "print(f\"Odd numbers from {n} to 1:\")\n",
    "for i in range(n,1,-1):\n",
    "    if(i%2!=0):\n",
    "        print(i)"
   ]
  },
  {
   "cell_type": "markdown",
   "id": "2709b68d",
   "metadata": {},
   "source": [
    "write a python program to print the multiplication table of n"
   ]
  },
  {
   "cell_type": "code",
   "execution_count": 45,
   "id": "89109c3a",
   "metadata": {},
   "outputs": [
    {
     "name": "stdout",
     "output_type": "stream",
     "text": [
      "Multiplication Table of 30 \n",
      "30 x 1 = 30\n",
      "30 x 2 = 60\n",
      "30 x 3 = 90\n",
      "30 x 4 = 120\n",
      "30 x 5 = 150\n",
      "30 x 6 = 180\n",
      "30 x 7 = 210\n",
      "30 x 8 = 240\n",
      "30 x 9 = 270\n",
      "30 x 10 = 300\n"
     ]
    }
   ],
   "source": [
    "n=int(input(\"Enter a Integer : \"))\n",
    "print(f\"Multiplication Table of {n} \")\n",
    "for i in range(1,11):\n",
    "    print(f\"{n} x {i} = {n*i}\")"
   ]
  },
  {
   "cell_type": "markdown",
   "id": "0b8c010d",
   "metadata": {},
   "source": []
  }
 ],
 "metadata": {
  "kernelspec": {
   "display_name": "Python 3",
   "language": "python",
   "name": "python3"
  },
  "language_info": {
   "codemirror_mode": {
    "name": "ipython",
    "version": 3
   },
   "file_extension": ".py",
   "mimetype": "text/x-python",
   "name": "python",
   "nbconvert_exporter": "python",
   "pygments_lexer": "ipython3",
   "version": "3.12.6"
  }
 },
 "nbformat": 4,
 "nbformat_minor": 5
}
