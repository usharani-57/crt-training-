{
 "cells": [
  {
   "cell_type": "markdown",
   "id": "9b15204a",
   "metadata": {},
   "source": [
    "Day 06 - 15/09/2025\n",
    "Object Oriented Programming\n",
    "1.  Entity : Anything has the existence or anything which exists.\n",
    "2.  Class : It is a Logical entityor blue print or a plan to create multiple objects.                                                                                   \n",
    "Multiple Objects created using the same class are known as identical objects or similar objects.\n"
   ]
  },
  {
   "cell_type": "markdown",
   "id": "68962adf",
   "metadata": {},
   "source": [
    "Syntax:\n",
    "-   Class Classname:                                                                                                                                                        \n",
    "        constructor + object creation\n"
   ]
  },
  {
   "cell_type": "markdown",
   "id": "1d78183a",
   "metadata": {},
   "source": [
    "Object :\n",
    "-      It is a real world physical Entity.Object consists of states & behaviours.Object is also known as instance."
   ]
  },
  {
   "cell_type": "markdown",
   "id": "197074cc",
   "metadata": {},
   "source": [
    "Syntax: \n",
    "-   ObjRef = classname()"
   ]
  },
  {
   "cell_type": "markdown",
   "id": "298b2a18",
   "metadata": {},
   "source": [
    "ClassName Rules:\n",
    "-   The class name can be any valid identifier\n",
    "-   It can't be python reserved word.\n",
    "-   A valid class name starts with a letter, followed by any number of letter, number or underscores.\n",
    "-   A class name generally starts with capital letter"
   ]
  },
  {
   "cell_type": "markdown",
   "id": "1b6cf792",
   "metadata": {},
   "source": [
    "-   Data Members: It is a container or data holder which holds or stores the data\n",
    "-   Data Members are of two types:\n",
    "1.  Varaible : It is a datamember which holds or stores the data and whose value is not fixed.\n",
    "2.  Constant : Constant is a data member which holds or stores the data and value is fixed."
   ]
  },
  {
   "cell_type": "markdown",
   "id": "aba4ea71",
   "metadata": {},
   "source": [
    "--------"
   ]
  },
  {
   "cell_type": "markdown",
   "id": "cf1509e7",
   "metadata": {},
   "source": [
    "-   Class Constructor : If defined is called whenever a program creates an object of that class.\n",
    "-   Constructor is called only once at the time of creating an instance.\n",
    "-   2 types of constructor\n",
    "1.  parameterized                                                                                                                                                       \n",
    "2.  Non - parameterized"
   ]
  },
  {
   "cell_type": "markdown",
   "id": "a2ecb7b3",
   "metadata": {},
   "source": [
    "------------------"
   ]
  },
  {
   "cell_type": "markdown",
   "id": "6fa85ce0",
   "metadata": {},
   "source": [
    "The __init__() method \n",
    "-   this is a magic method which we can use to intialize variables for class (objects).\n",
    "-   Every class has __init__ and this is executed when instantiate the class."
   ]
  },
  {
   "cell_type": "markdown",
   "id": "b2a7a9f3",
   "metadata": {},
   "source": [
    "Self : It is a default variable that contains the memory address of the current object."
   ]
  },
  {
   "cell_type": "code",
   "execution_count": 1,
   "id": "9826057c",
   "metadata": {},
   "outputs": [
    {
     "name": "stdout",
     "output_type": "stream",
     "text": [
      "Student Object is created\n",
      "Student Object is created\n",
      "Student Object is created\n",
      "Student Object is created\n",
      "Student Object is created\n"
     ]
    }
   ],
   "source": [
    "class Student:\n",
    "    def __init__(self):\n",
    "        print(\"Student Object is created\")\n",
    "S1 = Student()\n",
    "S2 = Student()\n",
    "S3 = Student()\n",
    "S4 = Student()\n",
    "S5 = Student()"
   ]
  },
  {
   "cell_type": "markdown",
   "id": "0b18fdd2",
   "metadata": {},
   "source": [
    "Variables\n",
    "1.  Global Variable : it is declared within the class outside of a method,constructor or block                                                                          \n",
    "It has a global Scope\n",
    "2. Local Variable : Which is declared inside of a constructor, method or block                                                                                          \n",
    "It has a limited or global scope"
   ]
  },
  {
   "cell_type": "code",
   "execution_count": 2,
   "id": "e4184a3d",
   "metadata": {},
   "outputs": [
    {
     "name": "stdout",
     "output_type": "stream",
     "text": [
      "The student name is Scott\n",
      "The student Age is 20\n",
      "The student Branch is CSD\n"
     ]
    }
   ],
   "source": [
    "class Student:\n",
    "    def __init__(self,name,age,branch):\n",
    "        self.StdName = name\n",
    "        self.Age = age\n",
    "        self.Branch = branch\n",
    "S1 = Student(\"Scott\",20,\"CSD\")\n",
    "print(f\"The student name is {S1.StdName}\")\n",
    "print(f\"The student Age is {S1.Age}\")\n",
    "print(f\"The student Branch is {S1.Branch}\")"
   ]
  },
  {
   "cell_type": "code",
   "execution_count": null,
   "id": "48a066d2",
   "metadata": {},
   "outputs": [],
   "source": [
    "class Student:\n",
    "    def __init__(self,id,college,year):\n",
    "        self.ID = id\n",
    "        self.College = college\n",
    "        self.Year = year \n",
    "S1 = Student('22f21a3245','GIT',4)\n",
    "print(f\"The student ID is {S1.ID}\")\n",
    "print(f\"The student College is {S1.College}\")\n",
    "print(f\"The student Branch is {S1.Year}\")"
   ]
  },
  {
   "cell_type": "code",
   "execution_count": 4,
   "id": "f650ea8b",
   "metadata": {},
   "outputs": [
    {
     "name": "stdout",
     "output_type": "stream",
     "text": [
      "The student name is Scott\n",
      "The student Age is 20\n",
      "The student Branch is CSD\n",
      "The student name is Adams\n",
      "The student Age is 21\n",
      "The student Branch is CSE\n"
     ]
    }
   ],
   "source": [
    "class Student:\n",
    "    def __init__(self,name,age,branch):\n",
    "        self.StdName = name\n",
    "        self.Age = age\n",
    "        self.Branch = branch\n",
    "    def display(self):\n",
    "        print(f\"The student name is {self.StdName}\")\n",
    "        print(f\"The student Age is {self.Age}\")\n",
    "        print(f\"The student Branch is {self.Branch}\")\n",
    "S1 = Student(\"Scott\",20,\"CSD\")\n",
    "S1.display()\n",
    "S2 = Student(\"Adams\",21,\"CSE\")\n",
    "S2.display()"
   ]
  },
  {
   "cell_type": "markdown",
   "id": "27e46405",
   "metadata": {},
   "source": [
    "Employeenum,employeename,designation, salary and deptno\n",
    "create 5 objects and access the details of 5 employee objects using functions"
   ]
  },
  {
   "cell_type": "code",
   "execution_count": 7,
   "id": "89cf7c96",
   "metadata": {},
   "outputs": [
    {
     "name": "stdout",
     "output_type": "stream",
     "text": [
      "The Employee name is Scott\n",
      "The Employee Number is 1234\n",
      "The Employee Designation is Manager\n",
      "The Employee Salary is 50000\n",
      "The Employee Department Number is 1\n",
      "The Employee name is Adams\n",
      "The Employee Number is 1235\n",
      "The Employee Designation is Asst.Manager\n",
      "The Employee Salary is 45000\n",
      "The Employee Department Number is 1\n",
      "The Employee name is Ford\n",
      "The Employee Number is 1236\n",
      "The Employee Designation is Consultant\n",
      "The Employee Salary is 40000\n",
      "The Employee Department Number is 2\n",
      "The Employee name is James\n",
      "The Employee Number is 1237\n",
      "The Employee Designation is Software Developer\n",
      "The Employee Salary is 35000\n",
      "The Employee Department Number is 3\n",
      "The Employee name is Smith\n",
      "The Employee Number is 1238\n",
      "The Employee Designation is Clerk\n",
      "The Employee Salary is 35000\n",
      "The Employee Department Number is 2\n"
     ]
    }
   ],
   "source": [
    "class Employee:\n",
    "    def __init__(self,EmpName,EmpNo,Desg,Sal,DeptNo):\n",
    "        self.EmpName = EmpName\n",
    "        self.EmpNo = EmpNo\n",
    "        self.Designation = Desg\n",
    "        self.Salary = Sal\n",
    "        self.DeptNo = DeptNo\n",
    "    def display(self):\n",
    "        print(f\"The Employee name is {self.EmpName}\")\n",
    "        print(f\"The Employee Number is {self.EmpNo}\")\n",
    "        print(f\"The Employee Designation is {self.Designation}\")\n",
    "        print(f\"The Employee Salary is {self.Salary}\")\n",
    "        print(f\"The Employee Department Number is {self.DeptNo}\")\n",
    "E1 = Employee(\"Scott\",1234,\"Manager\",50000,1)\n",
    "E1.display()\n",
    "E2 = Employee(\"Adams\",1235,\"Asst.Manager\",45000,1)\n",
    "E2.display()\n",
    "E3 = Employee(\"Ford\",1236,\"Consultant\",40000,2)\n",
    "E3.display()\n",
    "E4 = Employee(\"James\",1237,\"Software Developer\",35000,3)\n",
    "E4.display()\n",
    "E5 = Employee(\"Smith\",1238,\"Clerk\",35000,2)\n",
    "E5.display()\n"
   ]
  },
  {
   "cell_type": "markdown",
   "id": "dfb646a6",
   "metadata": {},
   "source": [
    "1.Create a product class & Declare the states as\n",
    "-   ProductName\n",
    "-   Price\n",
    "-   Discount\n",
    "-   GST\n",
    "-   Quantity"
   ]
  },
  {
   "cell_type": "markdown",
   "id": "c315fef8",
   "metadata": {},
   "source": [
    "-----"
   ]
  },
  {
   "cell_type": "markdown",
   "id": "0d5fde34",
   "metadata": {},
   "source": [
    "Types of Methods:\n",
    "1.  Instance Methods\n",
    "-   Accessor Methods\n",
    "-   Mutator Methods\n",
    "2.  Static Methods\n",
    "3.  Class Methods"
   ]
  },
  {
   "cell_type": "markdown",
   "id": "ca4e28cc",
   "metadata": {},
   "source": [
    "Acessor Method: This method is used to acess or read data of variable.this donot modify data value.\n",
    "ex:\n",
    "-   def get_value(self):\n",
    "-   def get_name(self)                                                                                                                                                  \n",
    "Mutator Method: This method is used to modify data of variable.\n",
    "ex:\n",
    "-   def set_value(self):\n",
    "-   def set_name(self)                                                                                                                                                  \n",
    "Static Method: This method is used to access or modify data of variable without creating object of class.                                                               \n",
    "Class Method: This method is used to access or modify data of variable without creating object of class.                                                                \n",
    "class Product:                                                                                                                                                          \n",
    "    def __init__(self,ProductName,Price,Discount,GST,Quantity):                                                                                                         \n",
    "        self.ProductName = ProductName"
   ]
  },
  {
   "cell_type": "code",
   "execution_count": 9,
   "id": "e5150469",
   "metadata": {},
   "outputs": [
    {
     "name": "stdout",
     "output_type": "stream",
     "text": [
      "\n",
      "Student Object is created\n",
      "\n",
      "The Student name is : Scott\n",
      "The Student Age is : 20\n",
      "The Student Branch is : CSD\n"
     ]
    }
   ],
   "source": [
    "class Student:\n",
    "    def __init__(self):\n",
    "        print()\n",
    "        print(\"Student Object is created\")\n",
    "        print()\n",
    "    def set_name(self,name):\n",
    "        self.StdName = name\n",
    "    def set_age(self,age):\n",
    "        self.Age = age\n",
    "    def set_branch(self,branch):\n",
    "        self.Branch = branch\n",
    "    \n",
    "    def get_name(self):\n",
    "        print(f\"The Student name is : {self.StdName}\")\n",
    "    def get_age(self):\n",
    "        print(f\"The Student Age is : {self.Age}\")     \n",
    "    def get_branch(self):\n",
    "        print(f\"The Student Branch is : {self.Branch}\")\n",
    "     \n",
    "S1 = Student()\n",
    "S1.set_name(\"Scott\")\n",
    "S1.get_name()\n",
    "S1.set_age(20)\n",
    "S1.get_age()\n",
    "S1.set_branch(\"CSD\")\n",
    "S1.get_branch()"
   ]
  },
  {
   "cell_type": "markdown",
   "id": "09f9b9a2",
   "metadata": {},
   "source": [
    "Class Methods: Class methods are methods that are bound to the class and not the instance of the class. They can be called on the class itself and are defined using the @classmethod decorator. Class methods receive the class itself as the first argument, conventionally named cls.                                                    \n",
    "\n",
    "\n",
    "Accessor Methods: Accessor methods are methods that are used to access the data of a class. They are also known as getter methods. Accessor methods are defined using the @property decorator. Accessor methods can be called on the class itself or on an instance of the class."
   ]
  },
  {
   "cell_type": "code",
   "execution_count": 11,
   "id": "96bcec28",
   "metadata": {},
   "outputs": [
    {
     "name": "stdout",
     "output_type": "stream",
     "text": [
      "The Mobile Model is iPhone 14 Pro Max\n"
     ]
    }
   ],
   "source": [
    "class Mobile:\n",
    "    @classmethod\n",
    "    def show_model(cls):\n",
    "        print(\"The Mobile Model is iPhone 14 Pro Max\")\n",
    "realme = Mobile()\n",
    "Mobile.show_model()"
   ]
  },
  {
   "cell_type": "markdown",
   "id": "61bf00d4",
   "metadata": {},
   "source": [
    "Static Methods: Static methods are methods that are bound to the class and not the instance of the class. They can be called on the class itself and are defined using the @staticmethod decorator. Static methods do not receive any implicit first argument, and they can be called on the class itself or on an instance of the class.                                                                                                                                                               "
   ]
  },
  {
   "cell_type": "code",
   "execution_count": 12,
   "id": "384f777e",
   "metadata": {},
   "outputs": [
    {
     "name": "stdout",
     "output_type": "stream",
     "text": [
      "The Mobile Model is iPhone 14 Pro Max\n"
     ]
    }
   ],
   "source": [
    "class Mobile:\n",
    "    @staticmethod\n",
    "    def show_model():\n",
    "        print(\"The Mobile Model is iPhone 14 Pro Max\")\n",
    "realme = Mobile()\n",
    "Mobile.show_model()"
   ]
  },
  {
   "cell_type": "markdown",
   "id": "1574de49",
   "metadata": {},
   "source": [
    "Inheritance : Inheritance is a mechanism in object-oriented programming that allows a class to inherit attributes and methods from another class. The class that is being inherited from is called the parent class or superclass, and the class that is inheriting is called the child class or subclass. Inheritance allows for code reuse and the creation of more specialized classes that can inherit the properties and methods of more general classes."
   ]
  },
  {
   "cell_type": "markdown",
   "id": "15433eb9",
   "metadata": {},
   "source": [
    "Super Class : The class from which the properties and methods are inherited is called the superclass or parent class.                                                   \n",
    "parent class - Base class or Super class                                                                                                                                \n",
    "Child Class : The class that inherits the properties and methods from the superclass is called the subclass or child class.                                             \n",
    "Sub Class : The class that inherits the properties and methods from the superclass is called the subclass or child class.                                               "
   ]
  },
  {
   "cell_type": "code",
   "execution_count": 2,
   "id": "61ef40b3",
   "metadata": {},
   "outputs": [
    {
     "name": "stdout",
     "output_type": "stream",
     "text": [
      "Person Object is created\n",
      "Student Object is created\n"
     ]
    }
   ],
   "source": [
    "class Person:\n",
    "    def __init__(self,name,age,gender):\n",
    "        self.Name = name\n",
    "        self.Age = age\n",
    "        self.Gender = gender\n",
    "        print(\"Person Object is created\")\n",
    "class Student(Person):\n",
    "    def __init__(self,name,age,gender,rollno,branch):\n",
    "        super().__init__(name,age,gender)\n",
    "        self.RollNo = rollno\n",
    "        self.Branch = branch\n",
    "        print(\"Student Object is created\")\n",
    "S1 = Student(\"Scott\",20,\"Male\",101,\"CSD\")"
   ]
  }
 ],
 "metadata": {
  "kernelspec": {
   "display_name": "Python 3",
   "language": "python",
   "name": "python3"
  },
  "language_info": {
   "codemirror_mode": {
    "name": "ipython",
    "version": 3
   },
   "file_extension": ".py",
   "mimetype": "text/x-python",
   "name": "python",
   "nbconvert_exporter": "python",
   "pygments_lexer": "ipython3",
   "version": "3.12.6"
  }
 },
 "nbformat": 4,
 "nbformat_minor": 5
}
