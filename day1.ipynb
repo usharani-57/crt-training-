{
 "cells": [
  {
   "cell_type": "markdown",
   "id": "fe5b99d5",
   "metadata": {},
   "source": [
    "\n",
    "# write a python Program to read 2 integer values as input and find largerst using if-else and turnary"
   ]
  },
  {
   "cell_type": "code",
   "execution_count": 1,
   "id": "17cb2ac5",
   "metadata": {},
   "outputs": [
    {
     "name": "stdout",
     "output_type": "stream",
     "text": [
      "8 is the largest\n"
     ]
    }
   ],
   "source": [
    "a = int(input('Enter first number: '))\n",
    "b = int(input('Enter second number'))\n",
    "#if - else\n",
    "if (a>b):\n",
    "    print(f\"{a} is the largest\")\n",
    "\n",
    "else:\n",
    "    print(f\"{b} is the largest\")\n",
    "    "
   ]
  },
  {
   "cell_type": "markdown",
   "id": "1d42d3d4",
   "metadata": {},
   "source": [
    "write a python program to read 2 integer and find the smallest number"
   ]
  },
  {
   "cell_type": "code",
   "execution_count": null,
   "id": "f202d927",
   "metadata": {},
   "outputs": [
    {
     "name": "stdout",
     "output_type": "stream",
     "text": [
      "5\n"
     ]
    }
   ],
   "source": [
    "a = int(input('Enter first number: '))\n",
    "b = int(input('Enter second number'))\n",
    "res = a if (a<b) else b\n",
    "print(res)"
   ]
  },
  {
   "cell_type": "markdown",
   "id": "ce431852",
   "metadata": {},
   "source": [
    "Write a python program to read 3 integer values as input from the user and find the largest number"
   ]
  },
  {
   "cell_type": "code",
   "execution_count": null,
   "id": "cbcef30c",
   "metadata": {},
   "outputs": [
    {
     "name": "stdout",
     "output_type": "stream",
     "text": [
      "5 is largest\n"
     ]
    }
   ],
   "source": [
    "a = int(input('Enter first number: '))\n",
    "b = int(input('Enter second number'))\n",
    "c = int(input('Enter third number'))\n",
    "if(a>b and a>c):\n",
    "    print(f\"{a} is largest\")\n",
    "elif(b>a and b>c):\n",
    "    print(f\"{b} is largest\")\n",
    "else:\n",
    "    print(f\"{c} is largest\")"
   ]
  },
  {
   "cell_type": "code",
   "execution_count": null,
   "id": "f84f4ac3",
   "metadata": {},
   "outputs": [
    {
     "name": "stdout",
     "output_type": "stream",
     "text": [
      "5\n"
     ]
    }
   ],
   "source": [
    "\n",
    "a = int(input('Enter first number: '))\n",
    "b = int(input('Enter second number'))\n",
    "c = int(input('Enter third number'))\n",
    "#tulnary operator\n",
    "big = a if(a>b and a>c)  else b\n",
    "res=c if(c>big) else big\n",
    "print(res) "
   ]
  },
  {
   "cell_type": "markdown",
   "id": "cf9883f5",
   "metadata": {},
   "source": [
    "write a pyhton program to read 3 integer values as input from user and find the smallest number using both if-else and turnary operator\n"
   ]
  },
  {
   "cell_type": "code",
   "execution_count": null,
   "id": "a8a7d136",
   "metadata": {},
   "outputs": [
    {
     "name": "stdout",
     "output_type": "stream",
     "text": [
      "7 is smallest\n"
     ]
    }
   ],
   "source": [
    "a = int(input('Enter first number: '))\n",
    "b = int(input('Enter second number'))\n",
    "c = int(input('Enter third number'))\n",
    "if(a<b and a<c):\n",
    "    print(f\"{a} is smallest\")\n",
    "elif(b<a and b<c):\n",
    "    print(f\"{b} is smallest\")\n",
    "else:\n",
    "    print(f\"{c} is smallest\")"
   ]
  },
  {
   "cell_type": "code",
   "execution_count": null,
   "id": "2e7ff2fe",
   "metadata": {},
   "outputs": [
    {
     "name": "stdout",
     "output_type": "stream",
     "text": [
      "7\n"
     ]
    }
   ],
   "source": [
    "a = int(input('Enter first number: '))\n",
    "b = int(input('Enter second number'))\n",
    "c = int(input('Enter third number'))\n",
    "\n",
    "small = a if(a<b and a<c) else b\n",
    "res = c if(c<small) else small\n",
    "print(res)"
   ]
  },
  {
   "cell_type": "markdown",
   "id": "dec933bb",
   "metadata": {},
   "source": [
    "Write a python program to read 3 integer values as input from the user and find the middle number using if-else and turnary operator"
   ]
  },
  {
   "cell_type": "code",
   "execution_count": null,
   "id": "6e51e5f6",
   "metadata": {},
   "outputs": [
    {
     "name": "stdout",
     "output_type": "stream",
     "text": [
      "8 is middle number\n"
     ]
    }
   ],
   "source": [
    "a = int(input('Enter first number: '))\n",
    "b = int(input('Enter second number'))\n",
    "c = int(input('Enter third number'))\n",
    "if(a>b and a<c):\n",
    "    print(f\"{a} is middle number\")\n",
    "elif(b>a and b<c):\n",
    "    print(f\"{b} is middle number\")\n",
    "else:\n",
    "    print(f\"{c} is middle number\")\n"
   ]
  },
  {
   "cell_type": "code",
   "execution_count": null,
   "id": "b5c9633c",
   "metadata": {},
   "outputs": [
    {
     "name": "stdout",
     "output_type": "stream",
     "text": [
      "8\n"
     ]
    }
   ],
   "source": [
    "a = int(input('Enter first number: '))\n",
    "b = int(input('Enter second number'))\n",
    "c = int(input('Enter third number'))\n",
    "\n",
    "mid = a if(a>b and a>c) else b\n",
    "res= c if(c<mid) else mid\n",
    "print(res)"
   ]
  },
  {
   "cell_type": "markdown",
   "id": "3b7caa48",
   "metadata": {},
   "source": [
    "write a python program to read the month number as input from the user and check whether it is a valid month number or not?"
   ]
  },
  {
   "cell_type": "code",
   "execution_count": null,
   "id": "e7305e07",
   "metadata": {},
   "outputs": [
    {
     "name": "stdout",
     "output_type": "stream",
     "text": [
      "Inavlid Month Number\n"
     ]
    }
   ],
   "source": [
    "mon=int(input('Enter month number: '))\n",
    "res = \"Valid month\" if (mon>0 and mon<=12) else \"Inavlid Month Number\"\n",
    "print(res)"
   ]
  },
  {
   "cell_type": "markdown",
   "id": "0dd7f8d1",
   "metadata": {},
   "source": [
    "write a python program to read month number as input from the user and print the respective number of days present in that particular month."
   ]
  },
  {
   "cell_type": "code",
   "execution_count": null,
   "id": "4a032aea",
   "metadata": {},
   "outputs": [
    {
     "name": "stdout",
     "output_type": "stream",
     "text": [
      "Invalid month number\n"
     ]
    }
   ],
   "source": [
    "mon=int(input('Enter month number: '))\n",
    "if(mon==1 or mon==3 or mon==5 or mon==7 or mon==8 or mon==10 or mon==12):\n",
    "    print(\"31 Days\")\n",
    "elif(mon==2):\n",
    "    print(\"28 or 29 Days\")\n",
    "elif(mon==4 or mon==6 or mon==9 or mon==11):\n",
    "    print(\"30 Days\")\n",
    "else:\n",
    "    print(\"Invalid month number\")"
   ]
  },
  {
   "cell_type": "markdown",
   "id": "e4d0e4f2",
   "metadata": {},
   "source": [
    "write a python program to check whether the user entered age is eligible to vote or not?"
   ]
  },
  {
   "cell_type": "code",
   "execution_count": null,
   "id": "489f234e",
   "metadata": {},
   "outputs": [],
   "source": [
    "age=int(input(\"Enter your age\"))\n",
    "if (age > 18):\n",
    "    print(\"Eligible to Vote\")\n",
    "elif(age > 18 and age >0):\n",
    "    print(\"Not eligible to Vote\")\n",
    "else:\n",
    "    print(\"Invalid Input\")"
   ]
  },
  {
   "cell_type": "markdown",
   "id": "f3ac3b15",
   "metadata": {},
   "source": [
    "write a py program to read an integer value as integer from user and check whether it is even or odd"
   ]
  },
  {
   "cell_type": "code",
   "execution_count": null,
   "id": "65407a24",
   "metadata": {},
   "outputs": [
    {
     "name": "stdout",
     "output_type": "stream",
     "text": [
      "Not even nor Odd\n"
     ]
    }
   ],
   "source": [
    "a=int(input(\"Enter a number\"))\n",
    "if(a % 2 == 0 and a!= 0):\n",
    "    print(\"Even\")\n",
    "elif(a==0):\n",
    "    print(\"Not even nor Odd\")\n",
    "else:\n",
    "    print(\"Odd\")"
   ]
  },
  {
   "cell_type": "markdown",
   "id": "6693c136",
   "metadata": {},
   "source": [
    "write a py program to read an integer valueas input from userand check whether it is a multiple of 3 and 5 or not"
   ]
  },
  {
   "cell_type": "code",
   "execution_count": null,
   "id": "11c3a61c",
   "metadata": {},
   "outputs": [],
   "source": [
    "a=int(input(\"Enter a number\"))\n",
    "if(a%3==0 and a%5==0):\n",
    "    print(\"Divisble by 3 and 5\")\n",
    "else:\n",
    "    print(\"Not Divisble by 3 and 5\")"
   ]
  },
  {
   "cell_type": "markdown",
   "id": "9f00e764",
   "metadata": {},
   "source": [
    "write a py to read an integer value as input and print fizzbuzz if divisble by 3&5 fizz if by 3 and buzz if by 5"
   ]
  },
  {
   "cell_type": "code",
   "execution_count": 20,
   "id": "ab4e56cc",
   "metadata": {},
   "outputs": [
    {
     "name": "stdout",
     "output_type": "stream",
     "text": [
      "Fizz\n"
     ]
    }
   ],
   "source": [
    "a = int(input(\"Enter a number\"))\n",
    "if(a%3==0 and a%5==0):\n",
    "    print(\"FizzBuzz\")\n",
    "elif(a%3==0):\n",
    "    print(\"Fizz\")\n",
    "elif(a%5==0):\n",
    "    print(\"Buzz\")"
   ]
  },
  {
   "cell_type": "markdown",
   "id": "82852f2e",
   "metadata": {},
   "source": [
    "write a python program to read amount as input from user and print no of notes required in indian currency dimension"
   ]
  },
  {
   "cell_type": "code",
   "execution_count": 31,
   "id": "e4f28feb",
   "metadata": {},
   "outputs": [
    {
     "name": "stdout",
     "output_type": "stream",
     "text": [
      "No of 500 notes: 11\n",
      "No of 200 notes: 0\n",
      "No of 100 notes: 0\n",
      "No of 50 notes: 1\n",
      "No of 20 notes: 1\n",
      "No of 10 notes: 0\n",
      "No of 5 notes: 1\n",
      "No of 2 notes: 0\n",
      "No of 1 notes: 0\n"
     ]
    }
   ],
   "source": [
    "amt = int(input(\"Enter amount\"))\n",
    "print(\"No of 500 notes:\", amt//500)\n",
    "amt = amt % 500\n",
    "print(\"No of 200 notes:\", amt//200)\n",
    "amt = amt % 200\n",
    "print(\"No of 100 notes:\", amt//100)\n",
    "amt = amt % 100\n",
    "print(\"No of 50 notes:\", amt//50)\n",
    "amt = amt % 50\n",
    "print(\"No of 20 notes:\", amt//20)\n",
    "amt = amt % 20\n",
    "print(\"No of 10 notes:\", amt//10)\n",
    "amt = amt % 10\n",
    "print(\"No of 5 notes:\", amt//5)\n",
    "amt = amt % 5\n",
    "print(\"No of 2 notes:\", amt//2)\n",
    "amt = amt % 2\n",
    "print(\"No of 1 notes:\", amt//1)\n",
    "\n"
   ]
  },
  {
   "cell_type": "code",
   "execution_count": null,
   "id": "f98bd772",
   "metadata": {},
   "outputs": [],
   "source": []
  }
 ],
 "metadata": {
  "kernelspec": {
   "display_name": "Python 3",
   "language": "python",
   "name": "python3"
  },
  "language_info": {
   "codemirror_mode": {
    "name": "ipython",
    "version": 3
   },
   "file_extension": ".py",
   "mimetype": "text/x-python",
   "name": "python",
   "nbconvert_exporter": "python",
   "pygments_lexer": "ipython3",
   "version": "3.12.6"
  }
 },
 "nbformat": 4,
 "nbformat_minor": 5
}
